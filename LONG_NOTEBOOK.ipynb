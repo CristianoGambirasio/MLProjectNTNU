{
 "cells": [
  {
   "cell_type": "markdown",
   "metadata": {},
   "source": [
    "name"
   ]
  },
  {
   "cell_type": "markdown",
   "metadata": {},
   "source": [
    "# EDA\n",
    "\n",
    "## Search domain knowledge ->C\n",
    "GHI\n",
    "Studying other projects approach (with citation maybe)\n",
    "What the feature are on the forecasting site\n",
    "\n",
    "##  Check if the data is intuitive -> C\n",
    "saying something about most the feature\n",
    "-  ceiling no -666 and some na (are they the same ?) same for cloud base\n",
    "- clear sky is intuitive that is smooth\n",
    "- direct is intuitive that is somehow like clear but noisy\n",
    "\n",
    "## How the data was generated -> C\n",
    "\n",
    "## Explore individual features -> L\n",
    "plot of individual feature (all and daily) and comment a little\n",
    "\n",
    "## Explore pairs and group of features -> L\n",
    "correlation matrix and single plot of feature really corrrelated and explanation of corrmat\n",
    "\n",
    "## Clean up features ->C\n",
    "snow features not intresting \n",
    "elevation to remove and add categorical \n",
    "pv_measurement cleaning \n",
    "\n"
   ]
  },
  {
   "cell_type": "markdown",
   "metadata": {},
   "source": [
    "# Feature engineering\n",
    "\n",
    "## Feature selection -> C\n",
    "pca explain but the drop idea\n",
    "\n",
    "## Feature extraction -> L\n",
    "lag feature\n",
    "ghi\n",
    "mean cloud 5 h\n",
    "aggregation methods\n",
    "(helper)\n"
   ]
  },
  {
   "cell_type": "markdown",
   "metadata": {},
   "source": [
    "# Modeling\n",
    "\n",
    "## Random forest not tuned (170)->C\n",
    "\n",
    "## Double model (observed estimated) (really bad results)-> C\n",
    "-> bad idea -> xgboost\n",
    "\n",
    "## Changing idea on splitting->C\n",
    "\n",
    "## XGBoost (160) ->C\n",
    "tuning tuning with bayesian search\n",
    "\n",
    "## LightGBM -> C\n",
    "tuning same as xgboost not better results tuning with gridsearch\n",
    "\n",
    "## Catboost (151) (still only mean) -> L\n",
    "little tuning \n",
    "\n",
    "##  Catboost (148) new aggrregation -> L\n",
    "not gridsearch but just final results (we tuned as lightbm)\n",
    "\n",
    "## Ensembling -> L\n",
    "Different aggregation strategy and also 4 model with 4 random seed each\n",
    "\n",
    "## Postprocessing -> L\n",
    "clip, no prediction after -1 sun elevation, Linear regression reasoning, classification reasoning\n"
   ]
  },
  {
   "cell_type": "markdown",
   "metadata": {},
   "source": [
    "# Model interpretation -> L\n",
    "16 fetures importance or lime, they should be same so explain which feature are more important and why. \n"
   ]
  }
 ],
 "metadata": {
  "language_info": {
   "name": "python"
  }
 },
 "nbformat": 4,
 "nbformat_minor": 2
}
