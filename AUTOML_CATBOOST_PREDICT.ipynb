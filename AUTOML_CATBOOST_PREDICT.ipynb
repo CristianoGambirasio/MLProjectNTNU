{
 "cells": [
  {
   "cell_type": "code",
   "execution_count": 1,
   "metadata": {},
   "outputs": [],
   "source": [
    "from supervised.automl import AutoML\n",
    "\n",
    "import matplotlib\n",
    "from matplotlib import pyplot as plt\n",
    "import seaborn as sns\n",
    "\n",
    "from helpers import *"
   ]
  },
  {
   "cell_type": "code",
   "execution_count": 2,
   "metadata": {},
   "outputs": [],
   "source": [
    "# algos = ['CatBoost']\n",
    "\n",
    "\n",
    "\n",
    "training_filters = [\n",
    "    {\n",
    "        'feature': 'month',\n",
    "        'operator': 'between',\n",
    "        'value': [3, 9]\n",
    "    }\n",
    "]\n",
    "\n",
    "validation_filters = [\n",
    "    {\n",
    "        'feature': 'date_forecast',\n",
    "        'operator': 'between',\n",
    "        'value': ['2020-05-01', '2020-07-01']\n",
    "    }\n",
    "]\n",
    "\n",
    "test_filters = [\n",
    "    {\n",
    "        'feature': 'date_forecast',\n",
    "        'operator': 'between',\n",
    "        'value': ['2021-05-01', '2021-07-01']\n",
    "    }\n",
    "]\n",
    "\n",
    "\n",
    "agg_strats = ['min','max','mean','std']\n",
    "\n",
    "m_wrap = DataWrapper(\n",
    "    impute_strategy = 'fbfill',\n",
    "    aggregation_strats = agg_strats,\n",
    "    y_scalers = [Y_Scaler_MaxAbs_per_building()],\n",
    "    transform_pred_strategy = ['clip','sun_el_thr'],\n",
    "    training_filters=training_filters,\n",
    "    validation_filters=validation_filters,\n",
    "    test_filters=test_filters,\n",
    "    bagging_filters=False, # these are applied additionally to the other filters on val, test, sub\n",
    "    )\n",
    "\n",
    "# X_train_agg, y_train_agg = m_wrap.get_train(aggregated=True,drop_val=False,drop_test=False,y_scaled=True)\n",
    "X_sub_agg = m_wrap.get_sub(aggregated=True)\n",
    "\n",
    "# train_idx = X_train_agg[~X_train_agg['date_forecast'].between('2020-05-01', '2020-07-01')].index\n",
    "# val_idx = X_train_agg[X_train_agg['date_forecast'].between('2020-05-01', '2020-07-01')].index\n",
    "\n",
    "# X_train_agg = X_train_agg.select_dtypes(exclude=['datetime','timedelta','period[M]'])\n",
    "\n",
    "# cv = [(train_idx, val_idx)]\n",
    "\n",
    "mod = AutoML(\n",
    "    results_path='AutoML_Results_ALL/',\n",
    "    # mode='Compete',\n",
    "    # total_time_limit=60*60*8,\n",
    "    # eval_metric='mae',\n",
    "    # algorithms=algos,\n",
    "    # train_ensemble=True,\n",
    "    # stack_models=True,\n",
    "    # verbose=2,\n",
    "    # random_state=42,\n",
    "    # validation_strategy={\"validation_type\": \"custom\"}\n",
    ")\n",
    "\n",
    "# mod.fit(X_train_agg, y_train_agg, cv=cv)"
   ]
  },
  {
   "cell_type": "code",
   "execution_count": 3,
   "metadata": {},
   "outputs": [
    {
     "name": "stderr",
     "output_type": "stream",
     "text": [
      "/opt/homebrew/Caskroom/miniconda/base/envs/ML/lib/python3.11/site-packages/sklearn/base.py:347: InconsistentVersionWarning: Trying to unpickle estimator MiniBatchKMeans from version 1.3.2 when using version 1.3.0. This might lead to breaking code or invalid results. Use at your own risk. For more info please refer to:\n",
      "https://scikit-learn.org/stable/model_persistence.html#security-maintainability-limitations\n",
      "/opt/homebrew/Caskroom/miniconda/base/envs/ML/lib/python3.11/site-packages/sklearn/base.py:347: InconsistentVersionWarning: Trying to unpickle estimator StandardScaler from version 1.3.2 when using version 1.3.0. This might lead to breaking code or invalid results. Use at your own risk. For more info please refer to:\n",
      "https://scikit-learn.org/stable/model_persistence.html#security-maintainability-limitations\n"
     ]
    },
    {
     "data": {
      "text/plain": [
       "0      -0.000172\n",
       "1      -0.000171\n",
       "2       0.000095\n",
       "3       0.010848\n",
       "4       0.061846\n",
       "          ...   \n",
       "2155    0.044339\n",
       "2156    0.014237\n",
       "2157    0.003404\n",
       "2158   -0.000670\n",
       "2159   -0.000900\n",
       "Length: 2160, dtype: float64"
      ]
     },
     "execution_count": 3,
     "metadata": {},
     "output_type": "execute_result"
    }
   ],
   "source": [
    "pred = pd.Series(mod.predict(X_sub_agg))\n",
    "pred"
   ]
  },
  {
   "cell_type": "code",
   "execution_count": 4,
   "metadata": {},
   "outputs": [
    {
     "data": {
      "text/plain": [
       "0         0.000000\n",
       "1         0.000000\n",
       "2         0.544771\n",
       "3        62.197813\n",
       "4       354.589862\n",
       "           ...    \n",
       "2155     44.320943\n",
       "2156     14.230972\n",
       "2157      3.402735\n",
       "2158      0.000000\n",
       "2159      0.000000\n",
       "Length: 2160, dtype: float64"
      ]
     },
     "execution_count": 4,
     "metadata": {},
     "output_type": "execute_result"
    }
   ],
   "source": [
    "prediction = m_wrap.transform_prediction(pred,X_sub_agg)\n",
    "prediction"
   ]
  },
  {
   "cell_type": "code",
   "execution_count": 5,
   "metadata": {},
   "outputs": [
    {
     "data": {
      "text/plain": [
       "0         0.000000\n",
       "1         0.000000\n",
       "2         0.000000\n",
       "3        62.197813\n",
       "4       354.589862\n",
       "           ...    \n",
       "2155     44.320943\n",
       "2156     14.230972\n",
       "2157      3.402735\n",
       "2158      0.000000\n",
       "2159      0.000000\n",
       "Length: 2160, dtype: float64"
      ]
     },
     "execution_count": 5,
     "metadata": {},
     "output_type": "execute_result"
    }
   ],
   "source": [
    "prediction = m_wrap.transform_prediction(pred,X_sub_agg,0)\n",
    "prediction"
   ]
  },
  {
   "cell_type": "code",
   "execution_count": 10,
   "metadata": {},
   "outputs": [],
   "source": [
    "prediction.to_csv('Auto_ALL.csv',index=True)"
   ]
  },
  {
   "cell_type": "code",
   "execution_count": 7,
   "metadata": {},
   "outputs": [
    {
     "name": "stderr",
     "output_type": "stream",
     "text": [
      "/opt/homebrew/Caskroom/miniconda/base/envs/ML/lib/python3.11/site-packages/seaborn/_oldcore.py:1498: FutureWarning: is_categorical_dtype is deprecated and will be removed in a future version. Use isinstance(dtype, CategoricalDtype) instead\n",
      "/opt/homebrew/Caskroom/miniconda/base/envs/ML/lib/python3.11/site-packages/seaborn/_oldcore.py:1498: FutureWarning: is_categorical_dtype is deprecated and will be removed in a future version. Use isinstance(dtype, CategoricalDtype) instead\n",
      "/opt/homebrew/Caskroom/miniconda/base/envs/ML/lib/python3.11/site-packages/seaborn/_oldcore.py:1119: FutureWarning: use_inf_as_na option is deprecated and will be removed in a future version. Convert inf values to NaN before operating instead.\n",
      "/opt/homebrew/Caskroom/miniconda/base/envs/ML/lib/python3.11/site-packages/seaborn/_oldcore.py:1119: FutureWarning: use_inf_as_na option is deprecated and will be removed in a future version. Convert inf values to NaN before operating instead.\n"
     ]
    },
    {
     "data": {
      "text/plain": [
       "<Axes: >"
      ]
     },
     "execution_count": 7,
     "metadata": {},
     "output_type": "execute_result"
    }
   ],
   "source": [
    "l = [0,1,2,3,4]\n",
    "sns.lineplot(l)"
   ]
  },
  {
   "cell_type": "code",
   "execution_count": 8,
   "metadata": {},
   "outputs": [
    {
     "name": "stderr",
     "output_type": "stream",
     "text": [
      "/var/folders/s_/tyyjfphn3wl93jz8bhkrh3x40000gn/T/ipykernel_51325/2941895085.py:2: UserWarning: FigureCanvasAgg is non-interactive, and thus cannot be shown\n"
     ]
    }
   ],
   "source": [
    "plt.plot(l);\n",
    "plt.show()"
   ]
  },
  {
   "cell_type": "code",
   "execution_count": 9,
   "metadata": {},
   "outputs": [
    {
     "name": "stderr",
     "output_type": "stream",
     "text": [
      "/opt/homebrew/Caskroom/miniconda/base/envs/ML/lib/python3.11/site-packages/seaborn/_oldcore.py:1498: FutureWarning: is_categorical_dtype is deprecated and will be removed in a future version. Use isinstance(dtype, CategoricalDtype) instead\n",
      "/opt/homebrew/Caskroom/miniconda/base/envs/ML/lib/python3.11/site-packages/seaborn/_oldcore.py:1498: FutureWarning: is_categorical_dtype is deprecated and will be removed in a future version. Use isinstance(dtype, CategoricalDtype) instead\n",
      "/opt/homebrew/Caskroom/miniconda/base/envs/ML/lib/python3.11/site-packages/seaborn/_oldcore.py:1119: FutureWarning: use_inf_as_na option is deprecated and will be removed in a future version. Convert inf values to NaN before operating instead.\n",
      "/opt/homebrew/Caskroom/miniconda/base/envs/ML/lib/python3.11/site-packages/seaborn/_oldcore.py:1119: FutureWarning: use_inf_as_na option is deprecated and will be removed in a future version. Convert inf values to NaN before operating instead.\n",
      "/var/folders/s_/tyyjfphn3wl93jz8bhkrh3x40000gn/T/ipykernel_51325/2434795930.py:2: UserWarning: FigureCanvasAgg is non-interactive, and thus cannot be shown\n"
     ]
    }
   ],
   "source": [
    "sns.lineplot(prediction)\n",
    "plt.show()"
   ]
  }
 ],
 "metadata": {
  "kernelspec": {
   "display_name": "ML",
   "language": "python",
   "name": "python3"
  },
  "language_info": {
   "codemirror_mode": {
    "name": "ipython",
    "version": 3
   },
   "file_extension": ".py",
   "mimetype": "text/x-python",
   "name": "python",
   "nbconvert_exporter": "python",
   "pygments_lexer": "ipython3",
   "version": "3.11.6"
  }
 },
 "nbformat": 4,
 "nbformat_minor": 2
}
