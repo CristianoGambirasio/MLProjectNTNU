{
 "cells": [
  {
   "cell_type": "code",
   "execution_count": 1,
   "metadata": {},
   "outputs": [],
   "source": [
    "import pandas as pd\n",
    "import numpy as np\n",
    "from sklearn.ensemble import RandomForestRegressor\n",
    "import matplotlib.pyplot as plt\n",
    "import seaborn as sns\n",
    "from sklearn.decomposition import PCA\n",
    "from sklearn.preprocessing import StandardScaler\n",
    "from sklearn.model_selection import GridSearchCV\n",
    "from sklearn.feature_selection import RFECV, RFE\n",
    "import xgboost\n",
    "\n",
    "from skopt import BayesSearchCV\n",
    "\n",
    "train_a = pd.read_parquet('A/train_targets.parquet')\n",
    "train_b = pd.read_parquet('B/train_targets.parquet')\n",
    "train_c = pd.read_parquet('C/train_targets.parquet')\n",
    "\n",
    "X_train_estimated_a = pd.read_parquet('A/X_train_estimated.parquet')\n",
    "X_train_estimated_b = pd.read_parquet('B/X_train_estimated.parquet')\n",
    "X_train_estimated_c = pd.read_parquet('C/X_train_estimated.parquet')\n",
    "\n",
    "X_train_observed_a = pd.read_parquet('A/X_train_observed.parquet')\n",
    "X_train_observed_b = pd.read_parquet('B/X_train_observed.parquet')\n",
    "X_train_observed_c = pd.read_parquet('C/X_train_observed.parquet')\n",
    "\n",
    "X_test_estimated_a = pd.read_parquet('A/X_test_estimated.parquet')\n",
    "X_test_estimated_b = pd.read_parquet('B/X_test_estimated.parquet')\n",
    "X_test_estimated_c = pd.read_parquet('C/X_test_estimated.parquet')"
   ]
  },
  {
   "cell_type": "markdown",
   "metadata": {},
   "source": [
    "# Adding building ID"
   ]
  },
  {
   "cell_type": "code",
   "execution_count": 2,
   "metadata": {},
   "outputs": [
    {
     "data": {
      "text/plain": [
       "(32155, 2)"
      ]
     },
     "execution_count": 2,
     "metadata": {},
     "output_type": "execute_result"
    }
   ],
   "source": [
    "train_c.shape"
   ]
  },
  {
   "cell_type": "code",
   "execution_count": 3,
   "metadata": {},
   "outputs": [],
   "source": [
    "\n",
    "train_a['building_id'] = 'a'\n",
    "train_b['building_id'] = 'b'\n",
    "train_c['building_id'] = 'c'\n",
    "\n",
    "X_train_estimated_a['building_id'] = 'a'\n",
    "X_train_estimated_b['building_id'] = 'b'\n",
    "X_train_estimated_c['building_id'] = 'c'\n",
    "\n",
    "X_train_observed_a['building_id'] = 'a'\n",
    "X_train_observed_b['building_id'] = 'b'\n",
    "X_train_observed_c['building_id'] = 'c'\n",
    "\n",
    "X_test_estimated_a['building_id'] = 'a'\n",
    "X_test_estimated_b['building_id'] = 'b'\n",
    "X_test_estimated_c['building_id'] = 'c'"
   ]
  },
  {
   "cell_type": "markdown",
   "metadata": {},
   "source": [
    "# Aggregating data"
   ]
  },
  {
   "cell_type": "code",
   "execution_count": 184,
   "metadata": {},
   "outputs": [],
   "source": [
    "X_test = pd.concat([X_test_estimated_a, X_test_estimated_b, X_test_estimated_c])\n",
    "X_test['time'] = X_test['date_forecast'].dt.floor('H')\n",
    "X_test = X_test.groupby(['building_id', 'time']).mean().reset_index()\n",
    "\n",
    "X_test['delta_forecast'] = (X_test['time']-X_test['date_calc']).apply(lambda x: x.total_seconds() / 3600)\n",
    "\n",
    "Xt2 = pd.DataFrame(X_test['delta_forecast'])\n",
    "\n",
    "X_test.drop(['date_calc','delta_forecast'], axis=1, inplace=True)\n",
    "\n",
    "X_observed = pd.concat([X_train_observed_a, X_train_observed_b, X_train_observed_c])\n",
    "X_observed['time'] = X_observed['date_forecast'].dt.floor('H')\n",
    "\n",
    "y_train = pd.concat([train_a, train_b, train_c])\n",
    "\n",
    "X_observed_grouped = X_observed.groupby(['building_id', 'time']).mean()\n",
    "\n",
    "# combine and remove rows with missing values in y\n",
    "Xy_observed = pd.merge(X_observed_grouped, y_train, on=['time', 'building_id'], how='inner')\n",
    "Xy_observed = Xy_observed[Xy_observed['pv_measurement'].notna()]\n",
    "\n",
    "\n",
    "X = Xy_observed.drop(['pv_measurement'], axis=1)\n",
    "y = Xy_observed['pv_measurement']"
   ]
  },
  {
   "cell_type": "markdown",
   "metadata": {},
   "source": [
    "# Preprocessing"
   ]
  },
  {
   "cell_type": "code",
   "execution_count": 5,
   "metadata": {},
   "outputs": [],
   "source": [
    "\n",
    "drop_cols = ['time', 'date_forecast', 'snow_density:kgm3']\n",
    "X = X.drop(drop_cols, axis=1)\n",
    "\n",
    "# get y mean per building id\n",
    "mean_y_per_building = y.groupby(Xy_observed['building_id']).mean()\n",
    "\n",
    "# divide y by mean per building id\n",
    "y = y.groupby(Xy_observed['building_id']).transform(lambda x: x / mean_y_per_building[x.name]) \n",
    "\n"
   ]
  },
  {
   "cell_type": "code",
   "execution_count": 6,
   "metadata": {},
   "outputs": [],
   "source": [
    "# setting types of columns\n",
    "categorical_features = [\n",
    "    'building_id'\n",
    "]\n",
    "\n",
    "impute_features = [\n",
    "    \"cloud_base_agl:m\",\n",
    "    \"ceiling_height_agl:m\",\n",
    "]\n"
   ]
  },
  {
   "cell_type": "markdown",
   "metadata": {},
   "source": [
    "# Building the pipeline"
   ]
  },
  {
   "cell_type": "code",
   "execution_count": 7,
   "metadata": {},
   "outputs": [],
   "source": [
    "from skopt.space import Real, Categorical, Integer\n",
    "\n",
    "parameters = {\n",
    "    'estimator__n_estimators': Integer(450,500),\n",
    "    'estimator__max_depth': Integer(3, 10),\n",
    "    'estimator__learning_rate': Real(0.01, 0.5),\n",
    "    'estimator__subsample': Real(0.5, 1.0),\n",
    "    'estimator__colsample_bytree': Real(0.5, 1.0),\n",
    "    'estimator__gamma': Real(0, 5),\n",
    "    'estimator__reg_alpha': Real(0, 5),\n",
    "    'estimator__reg_lambda': Real(0, 5),\n",
    "}\n"
   ]
  },
  {
   "cell_type": "code",
   "execution_count": 8,
   "metadata": {},
   "outputs": [
    {
     "data": {
      "text/plain": [
       "(82026,)"
      ]
     },
     "execution_count": 8,
     "metadata": {},
     "output_type": "execute_result"
    }
   ],
   "source": [
    "y.shape"
   ]
  },
  {
   "cell_type": "code",
   "execution_count": 9,
   "metadata": {},
   "outputs": [
    {
     "data": {
      "text/plain": [
       "0"
      ]
     },
     "execution_count": 9,
     "metadata": {},
     "output_type": "execute_result"
    }
   ],
   "source": [
    "y.isna().sum()"
   ]
  },
  {
   "cell_type": "code",
   "execution_count": 10,
   "metadata": {},
   "outputs": [
    {
     "name": "stdout",
     "output_type": "stream",
     "text": [
      "Fitting 3 folds for each of 1 candidates, totalling 3 fits\n"
     ]
    },
    {
     "name": "stdout",
     "output_type": "stream",
     "text": [
      "Fitting 3 folds for each of 1 candidates, totalling 3 fits\n",
      "Fitting 3 folds for each of 1 candidates, totalling 3 fits\n",
      "Fitting 3 folds for each of 1 candidates, totalling 3 fits\n",
      "Fitting 3 folds for each of 1 candidates, totalling 3 fits\n",
      "Fitting 3 folds for each of 1 candidates, totalling 3 fits\n",
      "Fitting 3 folds for each of 1 candidates, totalling 3 fits\n",
      "Fitting 3 folds for each of 1 candidates, totalling 3 fits\n",
      "Fitting 3 folds for each of 1 candidates, totalling 3 fits\n",
      "Fitting 3 folds for each of 1 candidates, totalling 3 fits\n",
      "Fitting 3 folds for each of 1 candidates, totalling 3 fits\n",
      "Fitting 3 folds for each of 1 candidates, totalling 3 fits\n",
      "Fitting 3 folds for each of 1 candidates, totalling 3 fits\n",
      "Fitting 3 folds for each of 1 candidates, totalling 3 fits\n",
      "Fitting 3 folds for each of 1 candidates, totalling 3 fits\n",
      "Fitting 3 folds for each of 1 candidates, totalling 3 fits\n",
      "Fitting 3 folds for each of 1 candidates, totalling 3 fits\n",
      "Fitting 3 folds for each of 1 candidates, totalling 3 fits\n",
      "Fitting 3 folds for each of 1 candidates, totalling 3 fits\n",
      "Fitting 3 folds for each of 1 candidates, totalling 3 fits\n",
      "Fitting 3 folds for each of 1 candidates, totalling 3 fits\n",
      "Fitting 3 folds for each of 1 candidates, totalling 3 fits\n",
      "Fitting 3 folds for each of 1 candidates, totalling 3 fits\n",
      "Fitting 3 folds for each of 1 candidates, totalling 3 fits\n",
      "Fitting 3 folds for each of 1 candidates, totalling 3 fits\n",
      "Fitting 3 folds for each of 1 candidates, totalling 3 fits\n",
      "Fitting 3 folds for each of 1 candidates, totalling 3 fits\n",
      "Fitting 3 folds for each of 1 candidates, totalling 3 fits\n",
      "Fitting 3 folds for each of 1 candidates, totalling 3 fits\n",
      "Fitting 3 folds for each of 1 candidates, totalling 3 fits\n",
      "Fitting 3 folds for each of 1 candidates, totalling 3 fits\n",
      "Fitting 3 folds for each of 1 candidates, totalling 3 fits\n",
      "Fitting 3 folds for each of 1 candidates, totalling 3 fits\n",
      "Fitting 3 folds for each of 1 candidates, totalling 3 fits\n",
      "Fitting 3 folds for each of 1 candidates, totalling 3 fits\n",
      "Fitting 3 folds for each of 1 candidates, totalling 3 fits\n",
      "Fitting 3 folds for each of 1 candidates, totalling 3 fits\n",
      "Fitting 3 folds for each of 1 candidates, totalling 3 fits\n",
      "Fitting 3 folds for each of 1 candidates, totalling 3 fits\n",
      "Fitting 3 folds for each of 1 candidates, totalling 3 fits\n",
      "Fitting 3 folds for each of 1 candidates, totalling 3 fits\n",
      "Fitting 3 folds for each of 1 candidates, totalling 3 fits\n",
      "Fitting 3 folds for each of 1 candidates, totalling 3 fits\n",
      "Fitting 3 folds for each of 1 candidates, totalling 3 fits\n",
      "Fitting 3 folds for each of 1 candidates, totalling 3 fits\n",
      "Fitting 3 folds for each of 1 candidates, totalling 3 fits\n",
      "Fitting 3 folds for each of 1 candidates, totalling 3 fits\n",
      "Fitting 3 folds for each of 1 candidates, totalling 3 fits\n",
      "Fitting 3 folds for each of 1 candidates, totalling 3 fits\n",
      "Fitting 3 folds for each of 1 candidates, totalling 3 fits\n",
      "Fitting 3 folds for each of 1 candidates, totalling 3 fits\n",
      "Fitting 3 folds for each of 1 candidates, totalling 3 fits\n",
      "Fitting 3 folds for each of 1 candidates, totalling 3 fits\n",
      "Fitting 3 folds for each of 1 candidates, totalling 3 fits\n",
      "Fitting 3 folds for each of 1 candidates, totalling 3 fits\n",
      "Fitting 3 folds for each of 1 candidates, totalling 3 fits\n",
      "Fitting 3 folds for each of 1 candidates, totalling 3 fits\n",
      "Fitting 3 folds for each of 1 candidates, totalling 3 fits\n",
      "Fitting 3 folds for each of 1 candidates, totalling 3 fits\n",
      "Fitting 3 folds for each of 1 candidates, totalling 3 fits\n",
      "Fitting 3 folds for each of 1 candidates, totalling 3 fits\n",
      "Fitting 3 folds for each of 1 candidates, totalling 3 fits\n",
      "Fitting 3 folds for each of 1 candidates, totalling 3 fits\n",
      "Fitting 3 folds for each of 1 candidates, totalling 3 fits\n",
      "Fitting 3 folds for each of 1 candidates, totalling 3 fits\n",
      "Fitting 3 folds for each of 1 candidates, totalling 3 fits\n",
      "Fitting 3 folds for each of 1 candidates, totalling 3 fits\n",
      "Fitting 3 folds for each of 1 candidates, totalling 3 fits\n",
      "Fitting 3 folds for each of 1 candidates, totalling 3 fits\n",
      "Fitting 3 folds for each of 1 candidates, totalling 3 fits\n",
      "Fitting 3 folds for each of 1 candidates, totalling 3 fits\n",
      "Fitting 3 folds for each of 1 candidates, totalling 3 fits\n",
      "Fitting 3 folds for each of 1 candidates, totalling 3 fits\n",
      "Fitting 3 folds for each of 1 candidates, totalling 3 fits\n",
      "Fitting 3 folds for each of 1 candidates, totalling 3 fits\n",
      "Fitting 3 folds for each of 1 candidates, totalling 3 fits\n",
      "Fitting 3 folds for each of 1 candidates, totalling 3 fits\n",
      "Fitting 3 folds for each of 1 candidates, totalling 3 fits\n",
      "Fitting 3 folds for each of 1 candidates, totalling 3 fits\n",
      "Fitting 3 folds for each of 1 candidates, totalling 3 fits\n",
      "Fitting 3 folds for each of 1 candidates, totalling 3 fits\n",
      "Fitting 3 folds for each of 1 candidates, totalling 3 fits\n",
      "Fitting 3 folds for each of 1 candidates, totalling 3 fits\n",
      "Fitting 3 folds for each of 1 candidates, totalling 3 fits\n",
      "Fitting 3 folds for each of 1 candidates, totalling 3 fits\n",
      "Fitting 3 folds for each of 1 candidates, totalling 3 fits\n",
      "Fitting 3 folds for each of 1 candidates, totalling 3 fits\n",
      "Fitting 3 folds for each of 1 candidates, totalling 3 fits\n",
      "Fitting 3 folds for each of 1 candidates, totalling 3 fits\n",
      "Fitting 3 folds for each of 1 candidates, totalling 3 fits\n",
      "Fitting 3 folds for each of 1 candidates, totalling 3 fits\n",
      "Fitting 3 folds for each of 1 candidates, totalling 3 fits\n",
      "Fitting 3 folds for each of 1 candidates, totalling 3 fits\n",
      "Fitting 3 folds for each of 1 candidates, totalling 3 fits\n",
      "Fitting 3 folds for each of 1 candidates, totalling 3 fits\n",
      "Fitting 3 folds for each of 1 candidates, totalling 3 fits\n",
      "Fitting 3 folds for each of 1 candidates, totalling 3 fits\n",
      "Fitting 3 folds for each of 1 candidates, totalling 3 fits\n",
      "Fitting 3 folds for each of 1 candidates, totalling 3 fits\n",
      "Fitting 3 folds for each of 1 candidates, totalling 3 fits\n"
     ]
    },
    {
     "data": {
      "text/html": [
       "<style>#sk-container-id-1 {color: black;}#sk-container-id-1 pre{padding: 0;}#sk-container-id-1 div.sk-toggleable {background-color: white;}#sk-container-id-1 label.sk-toggleable__label {cursor: pointer;display: block;width: 100%;margin-bottom: 0;padding: 0.3em;box-sizing: border-box;text-align: center;}#sk-container-id-1 label.sk-toggleable__label-arrow:before {content: \"▸\";float: left;margin-right: 0.25em;color: #696969;}#sk-container-id-1 label.sk-toggleable__label-arrow:hover:before {color: black;}#sk-container-id-1 div.sk-estimator:hover label.sk-toggleable__label-arrow:before {color: black;}#sk-container-id-1 div.sk-toggleable__content {max-height: 0;max-width: 0;overflow: hidden;text-align: left;background-color: #f0f8ff;}#sk-container-id-1 div.sk-toggleable__content pre {margin: 0.2em;color: black;border-radius: 0.25em;background-color: #f0f8ff;}#sk-container-id-1 input.sk-toggleable__control:checked~div.sk-toggleable__content {max-height: 200px;max-width: 100%;overflow: auto;}#sk-container-id-1 input.sk-toggleable__control:checked~label.sk-toggleable__label-arrow:before {content: \"▾\";}#sk-container-id-1 div.sk-estimator input.sk-toggleable__control:checked~label.sk-toggleable__label {background-color: #d4ebff;}#sk-container-id-1 div.sk-label input.sk-toggleable__control:checked~label.sk-toggleable__label {background-color: #d4ebff;}#sk-container-id-1 input.sk-hidden--visually {border: 0;clip: rect(1px 1px 1px 1px);clip: rect(1px, 1px, 1px, 1px);height: 1px;margin: -1px;overflow: hidden;padding: 0;position: absolute;width: 1px;}#sk-container-id-1 div.sk-estimator {font-family: monospace;background-color: #f0f8ff;border: 1px dotted black;border-radius: 0.25em;box-sizing: border-box;margin-bottom: 0.5em;}#sk-container-id-1 div.sk-estimator:hover {background-color: #d4ebff;}#sk-container-id-1 div.sk-parallel-item::after {content: \"\";width: 100%;border-bottom: 1px solid gray;flex-grow: 1;}#sk-container-id-1 div.sk-label:hover label.sk-toggleable__label {background-color: #d4ebff;}#sk-container-id-1 div.sk-serial::before {content: \"\";position: absolute;border-left: 1px solid gray;box-sizing: border-box;top: 0;bottom: 0;left: 50%;z-index: 0;}#sk-container-id-1 div.sk-serial {display: flex;flex-direction: column;align-items: center;background-color: white;padding-right: 0.2em;padding-left: 0.2em;position: relative;}#sk-container-id-1 div.sk-item {position: relative;z-index: 1;}#sk-container-id-1 div.sk-parallel {display: flex;align-items: stretch;justify-content: center;background-color: white;position: relative;}#sk-container-id-1 div.sk-item::before, #sk-container-id-1 div.sk-parallel-item::before {content: \"\";position: absolute;border-left: 1px solid gray;box-sizing: border-box;top: 0;bottom: 0;left: 50%;z-index: -1;}#sk-container-id-1 div.sk-parallel-item {display: flex;flex-direction: column;z-index: 1;position: relative;background-color: white;}#sk-container-id-1 div.sk-parallel-item:first-child::after {align-self: flex-end;width: 50%;}#sk-container-id-1 div.sk-parallel-item:last-child::after {align-self: flex-start;width: 50%;}#sk-container-id-1 div.sk-parallel-item:only-child::after {width: 0;}#sk-container-id-1 div.sk-dashed-wrapped {border: 1px dashed gray;margin: 0 0.4em 0.5em 0.4em;box-sizing: border-box;padding-bottom: 0.4em;background-color: white;}#sk-container-id-1 div.sk-label label {font-family: monospace;font-weight: bold;display: inline-block;line-height: 1.2em;}#sk-container-id-1 div.sk-label-container {text-align: center;}#sk-container-id-1 div.sk-container {/* jupyter's `normalize.less` sets `[hidden] { display: none; }` but bootstrap.min.css set `[hidden] { display: none !important; }` so we also need the `!important` here to be able to override the default hidden behavior on the sphinx rendered scikit-learn.org. See: https://github.com/scikit-learn/scikit-learn/issues/21755 */display: inline-block !important;position: relative;}#sk-container-id-1 div.sk-text-repr-fallback {display: none;}</style><div id=\"sk-container-id-1\" class=\"sk-top-container\"><div class=\"sk-text-repr-fallback\"><pre>Pipeline(steps=[(&#x27;columnTransformer&#x27;,\n",
       "                 ColumnTransformer(n_jobs=-1, remainder=&#x27;passthrough&#x27;,\n",
       "                                   transformers=[(&#x27;imputer&#x27;, SimpleImputer(),\n",
       "                                                  [&#x27;cloud_base_agl:m&#x27;,\n",
       "                                                   &#x27;ceiling_height_agl:m&#x27;]),\n",
       "                                                 (&#x27;oneHotEncoder&#x27;,\n",
       "                                                  OneHotEncoder(handle_unknown=&#x27;ignore&#x27;),\n",
       "                                                  [&#x27;building_id&#x27;])])),\n",
       "                (&#x27;estimator&#x27;,\n",
       "                 XGBRegressor(base_score=None, booster=None, callbacks=None,\n",
       "                              colsample_bylevel=None, colsam...\n",
       "                              grow_policy=None, importance_type=None,\n",
       "                              interaction_constraints=None,\n",
       "                              learning_rate=0.02687088180940387, max_bin=None,\n",
       "                              max_cat_threshold=None, max_cat_to_onehot=None,\n",
       "                              max_delta_step=None, max_depth=10,\n",
       "                              max_leaves=None, min_child_weight=None,\n",
       "                              missing=nan, monotone_constraints=None,\n",
       "                              multi_strategy=None, n_estimators=500,\n",
       "                              n_jobs=None, num_parallel_tree=None,\n",
       "                              random_state=None, ...))])</pre><b>In a Jupyter environment, please rerun this cell to show the HTML representation or trust the notebook. <br />On GitHub, the HTML representation is unable to render, please try loading this page with nbviewer.org.</b></div><div class=\"sk-container\" hidden><div class=\"sk-item sk-dashed-wrapped\"><div class=\"sk-label-container\"><div class=\"sk-label sk-toggleable\"><input class=\"sk-toggleable__control sk-hidden--visually\" id=\"sk-estimator-id-1\" type=\"checkbox\" ><label for=\"sk-estimator-id-1\" class=\"sk-toggleable__label sk-toggleable__label-arrow\">Pipeline</label><div class=\"sk-toggleable__content\"><pre>Pipeline(steps=[(&#x27;columnTransformer&#x27;,\n",
       "                 ColumnTransformer(n_jobs=-1, remainder=&#x27;passthrough&#x27;,\n",
       "                                   transformers=[(&#x27;imputer&#x27;, SimpleImputer(),\n",
       "                                                  [&#x27;cloud_base_agl:m&#x27;,\n",
       "                                                   &#x27;ceiling_height_agl:m&#x27;]),\n",
       "                                                 (&#x27;oneHotEncoder&#x27;,\n",
       "                                                  OneHotEncoder(handle_unknown=&#x27;ignore&#x27;),\n",
       "                                                  [&#x27;building_id&#x27;])])),\n",
       "                (&#x27;estimator&#x27;,\n",
       "                 XGBRegressor(base_score=None, booster=None, callbacks=None,\n",
       "                              colsample_bylevel=None, colsam...\n",
       "                              grow_policy=None, importance_type=None,\n",
       "                              interaction_constraints=None,\n",
       "                              learning_rate=0.02687088180940387, max_bin=None,\n",
       "                              max_cat_threshold=None, max_cat_to_onehot=None,\n",
       "                              max_delta_step=None, max_depth=10,\n",
       "                              max_leaves=None, min_child_weight=None,\n",
       "                              missing=nan, monotone_constraints=None,\n",
       "                              multi_strategy=None, n_estimators=500,\n",
       "                              n_jobs=None, num_parallel_tree=None,\n",
       "                              random_state=None, ...))])</pre></div></div></div><div class=\"sk-serial\"><div class=\"sk-item sk-dashed-wrapped\"><div class=\"sk-label-container\"><div class=\"sk-label sk-toggleable\"><input class=\"sk-toggleable__control sk-hidden--visually\" id=\"sk-estimator-id-2\" type=\"checkbox\" ><label for=\"sk-estimator-id-2\" class=\"sk-toggleable__label sk-toggleable__label-arrow\">columnTransformer: ColumnTransformer</label><div class=\"sk-toggleable__content\"><pre>ColumnTransformer(n_jobs=-1, remainder=&#x27;passthrough&#x27;,\n",
       "                  transformers=[(&#x27;imputer&#x27;, SimpleImputer(),\n",
       "                                 [&#x27;cloud_base_agl:m&#x27;, &#x27;ceiling_height_agl:m&#x27;]),\n",
       "                                (&#x27;oneHotEncoder&#x27;,\n",
       "                                 OneHotEncoder(handle_unknown=&#x27;ignore&#x27;),\n",
       "                                 [&#x27;building_id&#x27;])])</pre></div></div></div><div class=\"sk-parallel\"><div class=\"sk-parallel-item\"><div class=\"sk-item\"><div class=\"sk-label-container\"><div class=\"sk-label sk-toggleable\"><input class=\"sk-toggleable__control sk-hidden--visually\" id=\"sk-estimator-id-3\" type=\"checkbox\" ><label for=\"sk-estimator-id-3\" class=\"sk-toggleable__label sk-toggleable__label-arrow\">imputer</label><div class=\"sk-toggleable__content\"><pre>[&#x27;cloud_base_agl:m&#x27;, &#x27;ceiling_height_agl:m&#x27;]</pre></div></div></div><div class=\"sk-serial\"><div class=\"sk-item\"><div class=\"sk-estimator sk-toggleable\"><input class=\"sk-toggleable__control sk-hidden--visually\" id=\"sk-estimator-id-4\" type=\"checkbox\" ><label for=\"sk-estimator-id-4\" class=\"sk-toggleable__label sk-toggleable__label-arrow\">SimpleImputer</label><div class=\"sk-toggleable__content\"><pre>SimpleImputer()</pre></div></div></div></div></div></div><div class=\"sk-parallel-item\"><div class=\"sk-item\"><div class=\"sk-label-container\"><div class=\"sk-label sk-toggleable\"><input class=\"sk-toggleable__control sk-hidden--visually\" id=\"sk-estimator-id-5\" type=\"checkbox\" ><label for=\"sk-estimator-id-5\" class=\"sk-toggleable__label sk-toggleable__label-arrow\">oneHotEncoder</label><div class=\"sk-toggleable__content\"><pre>[&#x27;building_id&#x27;]</pre></div></div></div><div class=\"sk-serial\"><div class=\"sk-item\"><div class=\"sk-estimator sk-toggleable\"><input class=\"sk-toggleable__control sk-hidden--visually\" id=\"sk-estimator-id-6\" type=\"checkbox\" ><label for=\"sk-estimator-id-6\" class=\"sk-toggleable__label sk-toggleable__label-arrow\">OneHotEncoder</label><div class=\"sk-toggleable__content\"><pre>OneHotEncoder(handle_unknown=&#x27;ignore&#x27;)</pre></div></div></div></div></div></div><div class=\"sk-parallel-item\"><div class=\"sk-item\"><div class=\"sk-label-container\"><div class=\"sk-label sk-toggleable\"><input class=\"sk-toggleable__control sk-hidden--visually\" id=\"sk-estimator-id-7\" type=\"checkbox\" ><label for=\"sk-estimator-id-7\" class=\"sk-toggleable__label sk-toggleable__label-arrow\">remainder</label><div class=\"sk-toggleable__content\"><pre>[&#x27;absolute_humidity_2m:gm3&#x27;, &#x27;air_density_2m:kgm3&#x27;, &#x27;clear_sky_energy_1h:J&#x27;, &#x27;clear_sky_rad:W&#x27;, &#x27;dew_or_rime:idx&#x27;, &#x27;dew_point_2m:K&#x27;, &#x27;diffuse_rad:W&#x27;, &#x27;diffuse_rad_1h:J&#x27;, &#x27;direct_rad:W&#x27;, &#x27;direct_rad_1h:J&#x27;, &#x27;effective_cloud_cover:p&#x27;, &#x27;elevation:m&#x27;, &#x27;fresh_snow_12h:cm&#x27;, &#x27;fresh_snow_1h:cm&#x27;, &#x27;fresh_snow_24h:cm&#x27;, &#x27;fresh_snow_3h:cm&#x27;, &#x27;fresh_snow_6h:cm&#x27;, &#x27;is_day:idx&#x27;, &#x27;is_in_shadow:idx&#x27;, &#x27;msl_pressure:hPa&#x27;, &#x27;precip_5min:mm&#x27;, &#x27;precip_type_5min:idx&#x27;, &#x27;pressure_100m:hPa&#x27;, &#x27;pressure_50m:hPa&#x27;, &#x27;prob_rime:p&#x27;, &#x27;rain_water:kgm2&#x27;, &#x27;relative_humidity_1000hPa:p&#x27;, &#x27;sfc_pressure:hPa&#x27;, &#x27;snow_depth:cm&#x27;, &#x27;snow_drift:idx&#x27;, &#x27;snow_melt_10min:mm&#x27;, &#x27;snow_water:kgm2&#x27;, &#x27;sun_azimuth:d&#x27;, &#x27;sun_elevation:d&#x27;, &#x27;super_cooled_liquid_water:kgm2&#x27;, &#x27;t_1000hPa:K&#x27;, &#x27;total_cloud_cover:p&#x27;, &#x27;visibility:m&#x27;, &#x27;wind_speed_10m:ms&#x27;, &#x27;wind_speed_u_10m:ms&#x27;, &#x27;wind_speed_v_10m:ms&#x27;, &#x27;wind_speed_w_1000hPa:ms&#x27;]</pre></div></div></div><div class=\"sk-serial\"><div class=\"sk-item\"><div class=\"sk-estimator sk-toggleable\"><input class=\"sk-toggleable__control sk-hidden--visually\" id=\"sk-estimator-id-8\" type=\"checkbox\" ><label for=\"sk-estimator-id-8\" class=\"sk-toggleable__label sk-toggleable__label-arrow\">passthrough</label><div class=\"sk-toggleable__content\"><pre>passthrough</pre></div></div></div></div></div></div></div></div><div class=\"sk-item\"><div class=\"sk-estimator sk-toggleable\"><input class=\"sk-toggleable__control sk-hidden--visually\" id=\"sk-estimator-id-9\" type=\"checkbox\" ><label for=\"sk-estimator-id-9\" class=\"sk-toggleable__label sk-toggleable__label-arrow\">XGBRegressor</label><div class=\"sk-toggleable__content\"><pre>XGBRegressor(base_score=None, booster=None, callbacks=None,\n",
       "             colsample_bylevel=None, colsample_bynode=None,\n",
       "             colsample_bytree=0.6872786118665584, device=None,\n",
       "             early_stopping_rounds=None, enable_categorical=False,\n",
       "             eval_metric=None, feature_types=None, gamma=0.623464377174465,\n",
       "             grow_policy=None, importance_type=None,\n",
       "             interaction_constraints=None, learning_rate=0.02687088180940387,\n",
       "             max_bin=None, max_cat_threshold=None, max_cat_to_onehot=None,\n",
       "             max_delta_step=None, max_depth=10, max_leaves=None,\n",
       "             min_child_weight=None, missing=nan, monotone_constraints=None,\n",
       "             multi_strategy=None, n_estimators=500, n_jobs=None,\n",
       "             num_parallel_tree=None, random_state=None, ...)</pre></div></div></div></div></div></div></div>"
      ],
      "text/plain": [
       "Pipeline(steps=[('columnTransformer',\n",
       "                 ColumnTransformer(n_jobs=-1, remainder='passthrough',\n",
       "                                   transformers=[('imputer', SimpleImputer(),\n",
       "                                                  ['cloud_base_agl:m',\n",
       "                                                   'ceiling_height_agl:m']),\n",
       "                                                 ('oneHotEncoder',\n",
       "                                                  OneHotEncoder(handle_unknown='ignore'),\n",
       "                                                  ['building_id'])])),\n",
       "                ('estimator',\n",
       "                 XGBRegressor(base_score=None, booster=None, callbacks=None,\n",
       "                              colsample_bylevel=None, colsam...\n",
       "                              grow_policy=None, importance_type=None,\n",
       "                              interaction_constraints=None,\n",
       "                              learning_rate=0.02687088180940387, max_bin=None,\n",
       "                              max_cat_threshold=None, max_cat_to_onehot=None,\n",
       "                              max_delta_step=None, max_depth=10,\n",
       "                              max_leaves=None, min_child_weight=None,\n",
       "                              missing=nan, monotone_constraints=None,\n",
       "                              multi_strategy=None, n_estimators=500,\n",
       "                              n_jobs=None, num_parallel_tree=None,\n",
       "                              random_state=None, ...))])"
      ]
     },
     "execution_count": 10,
     "metadata": {},
     "output_type": "execute_result"
    }
   ],
   "source": [
    "from sklearn.impute import SimpleImputer\n",
    "from sklearn.preprocessing import OneHotEncoder, StandardScaler\n",
    "from sklearn.pipeline import Pipeline\n",
    "from sklearn.compose import ColumnTransformer\n",
    "\n",
    "\n",
    "# set column transformer\n",
    "columnTransformer = ColumnTransformer(\n",
    "    transformers=[\n",
    "        ('imputer', SimpleImputer(strategy='mean'),impute_features),\n",
    "        ('oneHotEncoder', OneHotEncoder(handle_unknown='ignore'), categorical_features),\n",
    "    ],\n",
    "    remainder='passthrough',  # Include other columns\n",
    "    n_jobs=-1\n",
    ")\n",
    "\n",
    "# build the pipeline\n",
    "pipeline = Pipeline(steps=[\n",
    "    ('columnTransformer', columnTransformer),\n",
    "    ('estimator', xgboost.XGBRegressor())\n",
    "])\n",
    "\n",
    "# create bayesian search estimator\n",
    "bayes_search_estimator = BayesSearchCV(\n",
    "    pipeline, parameters, scoring='neg_mean_absolute_error', cv=3, error_score='raise', n_jobs=-1, verbose=1, n_iter=100, random_state=42)\n",
    "\n",
    "# fit the estimator on the data\n",
    "bayes_search_estimator.fit(X, y)\n",
    "\n",
    "# fit best model on the data\n",
    "best_model = bayes_search_estimator.best_estimator_\n",
    "best_model.fit(X, y)\n",
    "\n"
   ]
  },
  {
   "cell_type": "code",
   "execution_count": 11,
   "metadata": {},
   "outputs": [
    {
     "name": "stdout",
     "output_type": "stream",
     "text": [
      "Best score: -0.37468744936578596\n",
      "Best parameters: OrderedDict([('estimator__colsample_bytree', 0.6872786118665584), ('estimator__gamma', 0.623464377174465), ('estimator__learning_rate', 0.02687088180940387), ('estimator__max_depth', 10), ('estimator__n_estimators', 500), ('estimator__reg_alpha', 5.0), ('estimator__reg_lambda', 5.0), ('estimator__subsample', 0.5)])\n",
      "All scores: [-0.4221026  -0.39507542 -0.40100943 -0.39640834 -0.39534579 -0.40777012\n",
      " -0.39225509 -0.40346881 -0.42624648 -0.42648582 -0.39727678 -0.4026648\n",
      " -0.39428632 -0.43057517 -0.39408829 -0.38943497 -0.39392249 -0.41355665\n",
      " -0.39583224 -0.38658653 -0.39018153 -0.42352983 -0.39088456 -0.46128561\n",
      " -0.4286951  -0.39273645 -0.4609386  -0.40106421 -0.42215645 -0.38176678\n",
      " -0.39114733 -0.38809308 -0.4014927  -0.39473086 -0.42018432 -0.38879529\n",
      " -0.40245185 -0.38588384 -0.40293128 -0.39667133 -0.39524811 -0.39393822\n",
      " -0.39182151 -0.39105611 -0.40159423 -0.4159902  -0.39810992 -0.40006663\n",
      " -0.38390212 -0.42627133 -0.39642022 -0.41016719 -0.40514798 -0.38209071\n",
      " -0.4145214  -0.38053347 -0.38553678 -0.39160271 -0.3774669  -0.39264909\n",
      " -0.38225531 -0.37468745 -0.38528139 -0.41828485 -0.40009918 -0.37907812\n",
      " -0.37904664 -0.38075811 -0.38336475 -0.40289869 -0.41950718 -0.37679363\n",
      " -0.37558647 -0.37869062 -0.37543764 -0.3757851  -0.39764083 -0.39265431\n",
      " -0.4248887  -0.40233335 -0.37741045 -0.3769055  -0.37800023 -0.37669831\n",
      " -0.38909839 -0.41951615 -0.37725133 -0.37763616 -0.4420281  -0.37686652\n",
      " -0.38137654 -0.37547592 -0.40174668 -0.39554817 -0.38244013 -0.37662203\n",
      " -0.37792966 -0.37781584 -0.37784333 -0.37620876]\n"
     ]
    }
   ],
   "source": [
    "# print the scores\n",
    "print('Best score:', bayes_search_estimator.best_score_)\n",
    "print('Best parameters:', bayes_search_estimator.best_params_)\n",
    "print('All scores:', bayes_search_estimator.cv_results_['mean_test_score'])\n"
   ]
  },
  {
   "cell_type": "code",
   "execution_count": 29,
   "metadata": {},
   "outputs": [],
   "source": [
    "y_test_pred = best_model.predict(X_test)\n",
    "\n",
    "test = pd.concat([X_test, pd.Series(y_test_pred)], axis=1)\n",
    "\n",
    "# multiply by mean per building id\n",
    "test = pd.merge(test, mean_y_per_building, on='building_id', how='left')\n",
    "y_pred = test[0] * test['pv_measurement']\n"
   ]
  },
  {
   "cell_type": "code",
   "execution_count": 30,
   "metadata": {},
   "outputs": [],
   "source": [
    "y_pred = y_pred.reset_index(name='prediction')\n",
    "y_pred.rename(columns={'index': 'id'}, inplace=True)\n",
    "y_pred.to_csv('XGBOOST.csv', header=True, index=False)\n"
   ]
  },
  {
   "cell_type": "code",
   "execution_count": 32,
   "metadata": {},
   "outputs": [],
   "source": [
    "y_pred.loc[y_pred['prediction'] < 0,'prediction'] = 0\n",
    "y_pred.to_csv('XGBOOST_zeroed_non_standardized.csv', header=True, index=False)\n"
   ]
  },
  {
   "cell_type": "markdown",
   "metadata": {},
   "source": [
    "# Model2"
   ]
  },
  {
   "cell_type": "code",
   "execution_count": 193,
   "metadata": {},
   "outputs": [
    {
     "name": "stderr",
     "output_type": "stream",
     "text": [
      "C:\\Users\\Cristiano\\AppData\\Local\\Temp\\ipykernel_8300\\4071265304.py:9: UserWarning: Boolean Series key will be reindexed to match DataFrame index.\n",
      "  Xy_estimated = Xy_estimated[Xy_observed['pv_measurement'].notna()]\n"
     ]
    }
   ],
   "source": [
    "X_estimated = pd.concat([X_train_estimated_a, X_train_estimated_b, X_train_estimated_c])\n",
    "X_estimated['time'] = X_estimated['date_forecast'].dt.floor('H')\n",
    "X_estimated['delta_forecast'] = (X_estimated['time']-X_estimated['date_calc']).apply(lambda x: x.total_seconds() / 3600)\n",
    "\n",
    "X_estimated_grouped = X_estimated.groupby(['building_id', 'time']).mean()\n",
    "\n",
    "# combine and remove rows with missing values in y\n",
    "Xy_estimated = pd.merge(X_estimated_grouped, y_train, on=['time', 'building_id'], how='inner')\n",
    "Xy_estimated = Xy_estimated[Xy_observed['pv_measurement'].notna()]\n",
    "\n",
    "\n",
    "Xe = Xy_estimated.drop(['pv_measurement'], axis=1)\n",
    "ye = Xy_estimated['pv_measurement']"
   ]
  },
  {
   "cell_type": "code",
   "execution_count": 194,
   "metadata": {},
   "outputs": [],
   "source": [
    "Xe2 = pd.DataFrame(Xe['delta_forecast'])\n",
    "\n",
    "# divide y by mean per building id\n",
    "ye = ye.groupby(Xy_estimated['building_id']).transform(lambda x: x / mean_y_per_building[x.name]) \n"
   ]
  },
  {
   "cell_type": "code",
   "execution_count": 195,
   "metadata": {},
   "outputs": [],
   "source": [
    "y_pred1 = best_model.predict(Xe)\n",
    "\n"
   ]
  },
  {
   "cell_type": "code",
   "execution_count": 196,
   "metadata": {},
   "outputs": [],
   "source": [
    "Xe2['pred'] = y_pred1"
   ]
  },
  {
   "cell_type": "markdown",
   "metadata": {},
   "source": [
    "## second as LinearRegression"
   ]
  },
  {
   "cell_type": "code",
   "execution_count": 197,
   "metadata": {},
   "outputs": [
    {
     "data": {
      "text/html": [
       "<style>#sk-container-id-6 {color: black;}#sk-container-id-6 pre{padding: 0;}#sk-container-id-6 div.sk-toggleable {background-color: white;}#sk-container-id-6 label.sk-toggleable__label {cursor: pointer;display: block;width: 100%;margin-bottom: 0;padding: 0.3em;box-sizing: border-box;text-align: center;}#sk-container-id-6 label.sk-toggleable__label-arrow:before {content: \"▸\";float: left;margin-right: 0.25em;color: #696969;}#sk-container-id-6 label.sk-toggleable__label-arrow:hover:before {color: black;}#sk-container-id-6 div.sk-estimator:hover label.sk-toggleable__label-arrow:before {color: black;}#sk-container-id-6 div.sk-toggleable__content {max-height: 0;max-width: 0;overflow: hidden;text-align: left;background-color: #f0f8ff;}#sk-container-id-6 div.sk-toggleable__content pre {margin: 0.2em;color: black;border-radius: 0.25em;background-color: #f0f8ff;}#sk-container-id-6 input.sk-toggleable__control:checked~div.sk-toggleable__content {max-height: 200px;max-width: 100%;overflow: auto;}#sk-container-id-6 input.sk-toggleable__control:checked~label.sk-toggleable__label-arrow:before {content: \"▾\";}#sk-container-id-6 div.sk-estimator input.sk-toggleable__control:checked~label.sk-toggleable__label {background-color: #d4ebff;}#sk-container-id-6 div.sk-label input.sk-toggleable__control:checked~label.sk-toggleable__label {background-color: #d4ebff;}#sk-container-id-6 input.sk-hidden--visually {border: 0;clip: rect(1px 1px 1px 1px);clip: rect(1px, 1px, 1px, 1px);height: 1px;margin: -1px;overflow: hidden;padding: 0;position: absolute;width: 1px;}#sk-container-id-6 div.sk-estimator {font-family: monospace;background-color: #f0f8ff;border: 1px dotted black;border-radius: 0.25em;box-sizing: border-box;margin-bottom: 0.5em;}#sk-container-id-6 div.sk-estimator:hover {background-color: #d4ebff;}#sk-container-id-6 div.sk-parallel-item::after {content: \"\";width: 100%;border-bottom: 1px solid gray;flex-grow: 1;}#sk-container-id-6 div.sk-label:hover label.sk-toggleable__label {background-color: #d4ebff;}#sk-container-id-6 div.sk-serial::before {content: \"\";position: absolute;border-left: 1px solid gray;box-sizing: border-box;top: 0;bottom: 0;left: 50%;z-index: 0;}#sk-container-id-6 div.sk-serial {display: flex;flex-direction: column;align-items: center;background-color: white;padding-right: 0.2em;padding-left: 0.2em;position: relative;}#sk-container-id-6 div.sk-item {position: relative;z-index: 1;}#sk-container-id-6 div.sk-parallel {display: flex;align-items: stretch;justify-content: center;background-color: white;position: relative;}#sk-container-id-6 div.sk-item::before, #sk-container-id-6 div.sk-parallel-item::before {content: \"\";position: absolute;border-left: 1px solid gray;box-sizing: border-box;top: 0;bottom: 0;left: 50%;z-index: -1;}#sk-container-id-6 div.sk-parallel-item {display: flex;flex-direction: column;z-index: 1;position: relative;background-color: white;}#sk-container-id-6 div.sk-parallel-item:first-child::after {align-self: flex-end;width: 50%;}#sk-container-id-6 div.sk-parallel-item:last-child::after {align-self: flex-start;width: 50%;}#sk-container-id-6 div.sk-parallel-item:only-child::after {width: 0;}#sk-container-id-6 div.sk-dashed-wrapped {border: 1px dashed gray;margin: 0 0.4em 0.5em 0.4em;box-sizing: border-box;padding-bottom: 0.4em;background-color: white;}#sk-container-id-6 div.sk-label label {font-family: monospace;font-weight: bold;display: inline-block;line-height: 1.2em;}#sk-container-id-6 div.sk-label-container {text-align: center;}#sk-container-id-6 div.sk-container {/* jupyter's `normalize.less` sets `[hidden] { display: none; }` but bootstrap.min.css set `[hidden] { display: none !important; }` so we also need the `!important` here to be able to override the default hidden behavior on the sphinx rendered scikit-learn.org. See: https://github.com/scikit-learn/scikit-learn/issues/21755 */display: inline-block !important;position: relative;}#sk-container-id-6 div.sk-text-repr-fallback {display: none;}</style><div id=\"sk-container-id-6\" class=\"sk-top-container\"><div class=\"sk-text-repr-fallback\"><pre>LinearRegression()</pre><b>In a Jupyter environment, please rerun this cell to show the HTML representation or trust the notebook. <br />On GitHub, the HTML representation is unable to render, please try loading this page with nbviewer.org.</b></div><div class=\"sk-container\" hidden><div class=\"sk-item\"><div class=\"sk-estimator sk-toggleable\"><input class=\"sk-toggleable__control sk-hidden--visually\" id=\"sk-estimator-id-22\" type=\"checkbox\" checked><label for=\"sk-estimator-id-22\" class=\"sk-toggleable__label sk-toggleable__label-arrow\">LinearRegression</label><div class=\"sk-toggleable__content\"><pre>LinearRegression()</pre></div></div></div></div></div>"
      ],
      "text/plain": [
       "LinearRegression()"
      ]
     },
     "execution_count": 197,
     "metadata": {},
     "output_type": "execute_result"
    }
   ],
   "source": [
    "from sklearn.linear_model import LinearRegression\n",
    "linear = LinearRegression()\n",
    "linear.fit(Xe2,ye)"
   ]
  },
  {
   "cell_type": "markdown",
   "metadata": {},
   "source": [
    "## second as XGBoost"
   ]
  },
  {
   "cell_type": "code",
   "execution_count": 218,
   "metadata": {},
   "outputs": [],
   "source": [
    "parameters2 = {\n",
    "    'estimator__n_estimators': Integer(20,21),\n",
    "    'estimator__max_depth': Integer(3, 10),\n",
    "    'estimator__learning_rate': Real(0.01, 0.5),\n",
    "    'estimator__subsample': Real(0.5, 1.0),\n",
    "    'estimator__colsample_bytree': Real(0.5, 1.0),\n",
    "    'estimator__gamma': Real(0, 5),\n",
    "    'estimator__reg_alpha': Real(0, 5),\n",
    "    'estimator__reg_lambda': Real(0, 5),\n",
    "}"
   ]
  },
  {
   "cell_type": "code",
   "execution_count": 219,
   "metadata": {},
   "outputs": [
    {
     "name": "stdout",
     "output_type": "stream",
     "text": [
      "Fitting 3 folds for each of 1 candidates, totalling 3 fits\n",
      "Fitting 3 folds for each of 1 candidates, totalling 3 fits\n",
      "Fitting 3 folds for each of 1 candidates, totalling 3 fits\n",
      "Fitting 3 folds for each of 1 candidates, totalling 3 fits\n",
      "Fitting 3 folds for each of 1 candidates, totalling 3 fits\n",
      "Fitting 3 folds for each of 1 candidates, totalling 3 fits\n",
      "Fitting 3 folds for each of 1 candidates, totalling 3 fits\n",
      "Fitting 3 folds for each of 1 candidates, totalling 3 fits\n",
      "Fitting 3 folds for each of 1 candidates, totalling 3 fits\n",
      "Fitting 3 folds for each of 1 candidates, totalling 3 fits\n",
      "Fitting 3 folds for each of 1 candidates, totalling 3 fits\n",
      "Fitting 3 folds for each of 1 candidates, totalling 3 fits\n",
      "Fitting 3 folds for each of 1 candidates, totalling 3 fits\n",
      "Fitting 3 folds for each of 1 candidates, totalling 3 fits\n",
      "Fitting 3 folds for each of 1 candidates, totalling 3 fits\n",
      "Fitting 3 folds for each of 1 candidates, totalling 3 fits\n",
      "Fitting 3 folds for each of 1 candidates, totalling 3 fits\n",
      "Fitting 3 folds for each of 1 candidates, totalling 3 fits\n",
      "Fitting 3 folds for each of 1 candidates, totalling 3 fits\n",
      "Fitting 3 folds for each of 1 candidates, totalling 3 fits\n"
     ]
    },
    {
     "name": "stderr",
     "output_type": "stream",
     "text": [
      "c:\\Users\\Cristiano\\miniconda3\\envs\\ML-NTNU\\Lib\\site-packages\\xgboost\\core.py:160: UserWarning: [13:16:37] WARNING: C:\\buildkite-agent\\builds\\buildkite-windows-cpu-autoscaling-group-i-0cec3277c4d9d0165-1\\xgboost\\xgboost-ci-windows\\src\\learner.cc:742: \n",
      "Parameters: { \"estimator__colsample_bytree\", \"estimator__gamma\", \"estimator__learning_rate\", \"estimator__max_depth\", \"estimator__n_estimators\", \"estimator__reg_alpha\", \"estimator__reg_lambda\", \"estimator__subsample\" } are not used.\n",
      "\n",
      "  warnings.warn(smsg, UserWarning)\n",
      "c:\\Users\\Cristiano\\miniconda3\\envs\\ML-NTNU\\Lib\\site-packages\\xgboost\\core.py:160: UserWarning: [13:16:37] WARNING: C:\\buildkite-agent\\builds\\buildkite-windows-cpu-autoscaling-group-i-0cec3277c4d9d0165-1\\xgboost\\xgboost-ci-windows\\src\\learner.cc:742: \n",
      "Parameters: { \"estimator__colsample_bytree\", \"estimator__gamma\", \"estimator__learning_rate\", \"estimator__max_depth\", \"estimator__n_estimators\", \"estimator__reg_alpha\", \"estimator__reg_lambda\", \"estimator__subsample\" } are not used.\n",
      "\n",
      "  warnings.warn(smsg, UserWarning)\n"
     ]
    },
    {
     "data": {
      "text/html": [
       "<style>#sk-container-id-8 {color: black;}#sk-container-id-8 pre{padding: 0;}#sk-container-id-8 div.sk-toggleable {background-color: white;}#sk-container-id-8 label.sk-toggleable__label {cursor: pointer;display: block;width: 100%;margin-bottom: 0;padding: 0.3em;box-sizing: border-box;text-align: center;}#sk-container-id-8 label.sk-toggleable__label-arrow:before {content: \"▸\";float: left;margin-right: 0.25em;color: #696969;}#sk-container-id-8 label.sk-toggleable__label-arrow:hover:before {color: black;}#sk-container-id-8 div.sk-estimator:hover label.sk-toggleable__label-arrow:before {color: black;}#sk-container-id-8 div.sk-toggleable__content {max-height: 0;max-width: 0;overflow: hidden;text-align: left;background-color: #f0f8ff;}#sk-container-id-8 div.sk-toggleable__content pre {margin: 0.2em;color: black;border-radius: 0.25em;background-color: #f0f8ff;}#sk-container-id-8 input.sk-toggleable__control:checked~div.sk-toggleable__content {max-height: 200px;max-width: 100%;overflow: auto;}#sk-container-id-8 input.sk-toggleable__control:checked~label.sk-toggleable__label-arrow:before {content: \"▾\";}#sk-container-id-8 div.sk-estimator input.sk-toggleable__control:checked~label.sk-toggleable__label {background-color: #d4ebff;}#sk-container-id-8 div.sk-label input.sk-toggleable__control:checked~label.sk-toggleable__label {background-color: #d4ebff;}#sk-container-id-8 input.sk-hidden--visually {border: 0;clip: rect(1px 1px 1px 1px);clip: rect(1px, 1px, 1px, 1px);height: 1px;margin: -1px;overflow: hidden;padding: 0;position: absolute;width: 1px;}#sk-container-id-8 div.sk-estimator {font-family: monospace;background-color: #f0f8ff;border: 1px dotted black;border-radius: 0.25em;box-sizing: border-box;margin-bottom: 0.5em;}#sk-container-id-8 div.sk-estimator:hover {background-color: #d4ebff;}#sk-container-id-8 div.sk-parallel-item::after {content: \"\";width: 100%;border-bottom: 1px solid gray;flex-grow: 1;}#sk-container-id-8 div.sk-label:hover label.sk-toggleable__label {background-color: #d4ebff;}#sk-container-id-8 div.sk-serial::before {content: \"\";position: absolute;border-left: 1px solid gray;box-sizing: border-box;top: 0;bottom: 0;left: 50%;z-index: 0;}#sk-container-id-8 div.sk-serial {display: flex;flex-direction: column;align-items: center;background-color: white;padding-right: 0.2em;padding-left: 0.2em;position: relative;}#sk-container-id-8 div.sk-item {position: relative;z-index: 1;}#sk-container-id-8 div.sk-parallel {display: flex;align-items: stretch;justify-content: center;background-color: white;position: relative;}#sk-container-id-8 div.sk-item::before, #sk-container-id-8 div.sk-parallel-item::before {content: \"\";position: absolute;border-left: 1px solid gray;box-sizing: border-box;top: 0;bottom: 0;left: 50%;z-index: -1;}#sk-container-id-8 div.sk-parallel-item {display: flex;flex-direction: column;z-index: 1;position: relative;background-color: white;}#sk-container-id-8 div.sk-parallel-item:first-child::after {align-self: flex-end;width: 50%;}#sk-container-id-8 div.sk-parallel-item:last-child::after {align-self: flex-start;width: 50%;}#sk-container-id-8 div.sk-parallel-item:only-child::after {width: 0;}#sk-container-id-8 div.sk-dashed-wrapped {border: 1px dashed gray;margin: 0 0.4em 0.5em 0.4em;box-sizing: border-box;padding-bottom: 0.4em;background-color: white;}#sk-container-id-8 div.sk-label label {font-family: monospace;font-weight: bold;display: inline-block;line-height: 1.2em;}#sk-container-id-8 div.sk-label-container {text-align: center;}#sk-container-id-8 div.sk-container {/* jupyter's `normalize.less` sets `[hidden] { display: none; }` but bootstrap.min.css set `[hidden] { display: none !important; }` so we also need the `!important` here to be able to override the default hidden behavior on the sphinx rendered scikit-learn.org. See: https://github.com/scikit-learn/scikit-learn/issues/21755 */display: inline-block !important;position: relative;}#sk-container-id-8 div.sk-text-repr-fallback {display: none;}</style><div id=\"sk-container-id-8\" class=\"sk-top-container\"><div class=\"sk-text-repr-fallback\"><pre>XGBRegressor(base_score=None, booster=None, callbacks=None,\n",
       "             colsample_bylevel=None, colsample_bynode=None,\n",
       "             colsample_bytree=None, device=None, early_stopping_rounds=None,\n",
       "             enable_categorical=False,\n",
       "             estimator__colsample_bytree=0.705051979426657,\n",
       "             estimator__gamma=3.6386287158866253,\n",
       "             estimator__learning_rate=0.4671053194354386,\n",
       "             estimator__max_depth=5, estimator__n_...\n",
       "             estimator__reg_alpha=2.0705931624276923,\n",
       "             estimator__reg_lambda=1.7546566744957202,\n",
       "             estimator__subsample=0.8697521170952103, eval_metric=None,\n",
       "             feature_types=None, gamma=None, grow_policy=None,\n",
       "             importance_type=None, interaction_constraints=None,\n",
       "             learning_rate=None, max_bin=None, max_cat_threshold=None,\n",
       "             max_cat_to_onehot=None, max_delta_step=None, max_depth=None,\n",
       "             max_leaves=None, ...)</pre><b>In a Jupyter environment, please rerun this cell to show the HTML representation or trust the notebook. <br />On GitHub, the HTML representation is unable to render, please try loading this page with nbviewer.org.</b></div><div class=\"sk-container\" hidden><div class=\"sk-item\"><div class=\"sk-estimator sk-toggleable\"><input class=\"sk-toggleable__control sk-hidden--visually\" id=\"sk-estimator-id-24\" type=\"checkbox\" checked><label for=\"sk-estimator-id-24\" class=\"sk-toggleable__label sk-toggleable__label-arrow\">XGBRegressor</label><div class=\"sk-toggleable__content\"><pre>XGBRegressor(base_score=None, booster=None, callbacks=None,\n",
       "             colsample_bylevel=None, colsample_bynode=None,\n",
       "             colsample_bytree=None, device=None, early_stopping_rounds=None,\n",
       "             enable_categorical=False,\n",
       "             estimator__colsample_bytree=0.705051979426657,\n",
       "             estimator__gamma=3.6386287158866253,\n",
       "             estimator__learning_rate=0.4671053194354386,\n",
       "             estimator__max_depth=5, estimator__n_...\n",
       "             estimator__reg_alpha=2.0705931624276923,\n",
       "             estimator__reg_lambda=1.7546566744957202,\n",
       "             estimator__subsample=0.8697521170952103, eval_metric=None,\n",
       "             feature_types=None, gamma=None, grow_policy=None,\n",
       "             importance_type=None, interaction_constraints=None,\n",
       "             learning_rate=None, max_bin=None, max_cat_threshold=None,\n",
       "             max_cat_to_onehot=None, max_delta_step=None, max_depth=None,\n",
       "             max_leaves=None, ...)</pre></div></div></div></div></div>"
      ],
      "text/plain": [
       "XGBRegressor(base_score=None, booster=None, callbacks=None,\n",
       "             colsample_bylevel=None, colsample_bynode=None,\n",
       "             colsample_bytree=None, device=None, early_stopping_rounds=None,\n",
       "             enable_categorical=False,\n",
       "             estimator__colsample_bytree=0.705051979426657,\n",
       "             estimator__gamma=3.6386287158866253,\n",
       "             estimator__learning_rate=0.4671053194354386,\n",
       "             estimator__max_depth=5, estimator__n_...\n",
       "             estimator__reg_alpha=2.0705931624276923,\n",
       "             estimator__reg_lambda=1.7546566744957202,\n",
       "             estimator__subsample=0.8697521170952103, eval_metric=None,\n",
       "             feature_types=None, gamma=None, grow_policy=None,\n",
       "             importance_type=None, interaction_constraints=None,\n",
       "             learning_rate=None, max_bin=None, max_cat_threshold=None,\n",
       "             max_cat_to_onehot=None, max_delta_step=None, max_depth=None,\n",
       "             max_leaves=None, ...)"
      ]
     },
     "execution_count": 219,
     "metadata": {},
     "output_type": "execute_result"
    }
   ],
   "source": [
    "bayes_search_estimator2 = BayesSearchCV(\n",
    "    xgboost.XGBRegressor(), parameters2, scoring='neg_mean_absolute_error', cv=3, error_score='raise', n_jobs=-1, verbose=1, n_iter=20, random_state=42)\n",
    "\n",
    "# fit the estimator on the data\n",
    "bayes_search_estimator2.fit(Xe2, ye)\n",
    "\n",
    "# fit best model on the data\n",
    "best_model2 = bayes_search_estimator2.best_estimator_\n",
    "best_model2.fit(Xe2, ye)"
   ]
  },
  {
   "cell_type": "code",
   "execution_count": 221,
   "metadata": {},
   "outputs": [
    {
     "name": "stdout",
     "output_type": "stream",
     "text": [
      "Best score: -0.05828693531431781\n",
      "Best parameters: OrderedDict([('estimator__colsample_bytree', 0.705051979426657), ('estimator__gamma', 3.6386287158866253), ('estimator__learning_rate', 0.4671053194354386), ('estimator__max_depth', 5), ('estimator__n_estimators', 21), ('estimator__reg_alpha', 2.0705931624276923), ('estimator__reg_lambda', 1.7546566744957202), ('estimator__subsample', 0.8697521170952103)])\n",
      "All scores: [-0.05828694 -0.05828694 -0.05828694 -0.05828694 -0.05828694 -0.05828694\n",
      " -0.05828694 -0.05828694 -0.05828694 -0.05828694 -0.05828694 -0.05828694\n",
      " -0.05828694 -0.05828694 -0.05828694 -0.05828694 -0.05828694 -0.05828694\n",
      " -0.05828694 -0.05828694]\n"
     ]
    }
   ],
   "source": [
    "# print the scores\n",
    "print('Best score:', bayes_search_estimator2.best_score_)\n",
    "print('Best parameters:', bayes_search_estimator2.best_params_)\n",
    "print('All scores:', bayes_search_estimator2.cv_results_['mean_test_score'])\n"
   ]
  },
  {
   "cell_type": "markdown",
   "metadata": {},
   "source": [
    "# Final prevision"
   ]
  },
  {
   "cell_type": "code",
   "execution_count": 198,
   "metadata": {},
   "outputs": [],
   "source": [
    "Xt2['pred'] = best_model.predict(X_test)"
   ]
  },
  {
   "cell_type": "code",
   "execution_count": 204,
   "metadata": {},
   "outputs": [],
   "source": [
    "#y_test_pred = linear.predict(Xt2)\n",
    "y_test_pred = best_model2.predict(Xt2)\n",
    "\n",
    "test = pd.concat([X_test, pd.Series(y_test_pred)], axis=1)\n",
    "\n",
    "# multiply by mean per building id\n",
    "test = pd.merge(test, mean_y_per_building, on='building_id', how='left')\n",
    "y_pred = test[0] * test['pv_measurement']\n",
    "\n",
    "y_pred = y_pred.reset_index(name='prediction')\n",
    "y_pred.rename(columns={'index': 'id'}, inplace=True)\n",
    "#y_pred.to_csv('XGBOOST.csv', header=True, index=False)\n",
    "\n",
    "y_pred.loc[y_pred['prediction'] < 0,'prediction'] = 0\n",
    "y_pred.to_csv('XGBOOST_zeroed_non_standardized_double.csv', header=True, index=False)\n"
   ]
  },
  {
   "cell_type": "markdown",
   "metadata": {},
   "source": [
    "#"
   ]
  }
 ],
 "metadata": {
  "kernelspec": {
   "display_name": "ML-NTNU",
   "language": "python",
   "name": "python3"
  },
  "language_info": {
   "codemirror_mode": {
    "name": "ipython",
    "version": 3
   },
   "file_extension": ".py",
   "mimetype": "text/x-python",
   "name": "python",
   "nbconvert_exporter": "python",
   "pygments_lexer": "ipython3",
   "version": "3.11.4"
  }
 },
 "nbformat": 4,
 "nbformat_minor": 2
}
