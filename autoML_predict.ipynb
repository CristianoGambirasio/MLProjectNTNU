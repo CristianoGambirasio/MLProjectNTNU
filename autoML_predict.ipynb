{
 "cells": [
  {
   "cell_type": "code",
   "execution_count": 3,
   "metadata": {},
   "outputs": [
    {
     "name": "stdout",
     "output_type": "stream",
     "text": [
      "{'a': 5733.42, 'b': 1152.3, 'c': 999.6}\n",
      "{'a': 5733.42, 'b': 1152.3, 'c': 999.6}\n"
     ]
    },
    {
     "name": "stderr",
     "output_type": "stream",
     "text": [
      "/opt/homebrew/Caskroom/miniconda/base/envs/ML/lib/python3.11/site-packages/sklearn/base.py:347: InconsistentVersionWarning: Trying to unpickle estimator MiniBatchKMeans from version 1.3.1 when using version 1.3.0. This might lead to breaking code or invalid results. Use at your own risk. For more info please refer to:\n",
      "https://scikit-learn.org/stable/model_persistence.html#security-maintainability-limitations\n",
      "/opt/homebrew/Caskroom/miniconda/base/envs/ML/lib/python3.11/site-packages/sklearn/base.py:347: InconsistentVersionWarning: Trying to unpickle estimator StandardScaler from version 1.3.1 when using version 1.3.0. This might lead to breaking code or invalid results. Use at your own risk. For more info please refer to:\n",
      "https://scikit-learn.org/stable/model_persistence.html#security-maintainability-limitations\n",
      "2023-11-11 23:50:28,382 supervised.exceptions ERROR Missing column: min_effective_cloud_cover:p_-1h in input data. Cannot predict\n"
     ]
    },
    {
     "ename": "AutoMLException",
     "evalue": "Missing column: min_effective_cloud_cover:p_-1h in input data. Cannot predict",
     "output_type": "error",
     "traceback": [
      "\u001b[0;31m---------------------------------------------------------------------------\u001b[0m",
      "\u001b[0;31mAutoMLException\u001b[0m                           Traceback (most recent call last)",
      "\u001b[1;32m/Users/lasse/Programming/Uni/MLProjectNTNU/autoML_predict.ipynb Cell 1\u001b[0m line \u001b[0;36m6\n\u001b[1;32m     <a href='vscode-notebook-cell:/Users/lasse/Programming/Uni/MLProjectNTNU/autoML_predict.ipynb#W0sZmlsZQ%3D%3D?line=52'>53</a>\u001b[0m cv \u001b[39m=\u001b[39m [(train_idx, val_idx)]\n\u001b[1;32m     <a href='vscode-notebook-cell:/Users/lasse/Programming/Uni/MLProjectNTNU/autoML_predict.ipynb#W0sZmlsZQ%3D%3D?line=54'>55</a>\u001b[0m mod \u001b[39m=\u001b[39m AutoML(\n\u001b[1;32m     <a href='vscode-notebook-cell:/Users/lasse/Programming/Uni/MLProjectNTNU/autoML_predict.ipynb#W0sZmlsZQ%3D%3D?line=55'>56</a>\u001b[0m     results_path\u001b[39m=\u001b[39m\u001b[39m'\u001b[39m\u001b[39mAutoML_Results_XGBOOST/\u001b[39m\u001b[39m'\u001b[39m,\n\u001b[1;32m     <a href='vscode-notebook-cell:/Users/lasse/Programming/Uni/MLProjectNTNU/autoML_predict.ipynb#W0sZmlsZQ%3D%3D?line=56'>57</a>\u001b[0m \n\u001b[1;32m     <a href='vscode-notebook-cell:/Users/lasse/Programming/Uni/MLProjectNTNU/autoML_predict.ipynb#W0sZmlsZQ%3D%3D?line=57'>58</a>\u001b[0m )\n\u001b[0;32m---> <a href='vscode-notebook-cell:/Users/lasse/Programming/Uni/MLProjectNTNU/autoML_predict.ipynb#W0sZmlsZQ%3D%3D?line=59'>60</a>\u001b[0m pred \u001b[39m=\u001b[39m mod\u001b[39m.\u001b[39mpredict(X_sub_agg)\n\u001b[1;32m     <a href='vscode-notebook-cell:/Users/lasse/Programming/Uni/MLProjectNTNU/autoML_predict.ipynb#W0sZmlsZQ%3D%3D?line=60'>61</a>\u001b[0m pred\n",
      "File \u001b[0;32m/opt/homebrew/Caskroom/miniconda/base/envs/ML/lib/python3.11/site-packages/supervised/automl.py:452\u001b[0m, in \u001b[0;36mAutoML.predict\u001b[0;34m(self, X)\u001b[0m\n\u001b[1;32m    435\u001b[0m \u001b[39mdef\u001b[39;00m \u001b[39mpredict\u001b[39m(\u001b[39mself\u001b[39m, X: Union[List, numpy\u001b[39m.\u001b[39mndarray, pandas\u001b[39m.\u001b[39mDataFrame]) \u001b[39m-\u001b[39m\u001b[39m>\u001b[39m numpy\u001b[39m.\u001b[39mndarray:\n\u001b[1;32m    436\u001b[0m \u001b[39m    \u001b[39m\u001b[39m\"\"\"\u001b[39;00m\n\u001b[1;32m    437\u001b[0m \u001b[39m    Computes predictions from AutoML best model.\u001b[39;00m\n\u001b[1;32m    438\u001b[0m \n\u001b[0;32m   (...)\u001b[0m\n\u001b[1;32m    450\u001b[0m \u001b[39m        AutoMLException: Model has not yet been fitted.\u001b[39;00m\n\u001b[1;32m    451\u001b[0m \u001b[39m    \"\"\"\u001b[39;00m\n\u001b[0;32m--> 452\u001b[0m     \u001b[39mreturn\u001b[39;00m \u001b[39mself\u001b[39m\u001b[39m.\u001b[39m_predict(X)\n",
      "File \u001b[0;32m/opt/homebrew/Caskroom/miniconda/base/envs/ML/lib/python3.11/site-packages/supervised/base_automl.py:1520\u001b[0m, in \u001b[0;36mBaseAutoML._predict\u001b[0;34m(self, X)\u001b[0m\n\u001b[1;32m   1519\u001b[0m \u001b[39mdef\u001b[39;00m \u001b[39m_predict\u001b[39m(\u001b[39mself\u001b[39m, X):\n\u001b[0;32m-> 1520\u001b[0m     predictions \u001b[39m=\u001b[39m \u001b[39mself\u001b[39m\u001b[39m.\u001b[39m_base_predict(X)\n\u001b[1;32m   1521\u001b[0m     \u001b[39m# Return predictions\u001b[39;00m\n\u001b[1;32m   1522\u001b[0m     \u001b[39m# If classification task the result is in column 'label'\u001b[39;00m\n\u001b[1;32m   1523\u001b[0m     \u001b[39m# If regression task the result is in column 'prediction'\u001b[39;00m\n\u001b[1;32m   1524\u001b[0m     \u001b[39mreturn\u001b[39;00m (\n\u001b[1;32m   1525\u001b[0m         predictions[\u001b[39m\"\u001b[39m\u001b[39mlabel\u001b[39m\u001b[39m\"\u001b[39m]\u001b[39m.\u001b[39mto_numpy()\n\u001b[1;32m   1526\u001b[0m         \u001b[39mif\u001b[39;00m \u001b[39mself\u001b[39m\u001b[39m.\u001b[39m_ml_task \u001b[39m!=\u001b[39m REGRESSION\n\u001b[1;32m   1527\u001b[0m         \u001b[39melse\u001b[39;00m predictions[\u001b[39m\"\u001b[39m\u001b[39mprediction\u001b[39m\u001b[39m\"\u001b[39m]\u001b[39m.\u001b[39mto_numpy()\n\u001b[1;32m   1528\u001b[0m     )\n",
      "File \u001b[0;32m/opt/homebrew/Caskroom/miniconda/base/envs/ML/lib/python3.11/site-packages/supervised/base_automl.py:1468\u001b[0m, in \u001b[0;36mBaseAutoML._base_predict\u001b[0;34m(self, X, model)\u001b[0m\n\u001b[1;32m   1466\u001b[0m \u001b[39mfor\u001b[39;00m column \u001b[39min\u001b[39;00m \u001b[39mself\u001b[39m\u001b[39m.\u001b[39m_data_info[\u001b[39m\"\u001b[39m\u001b[39mcolumns\u001b[39m\u001b[39m\"\u001b[39m]:\n\u001b[1;32m   1467\u001b[0m     \u001b[39mif\u001b[39;00m column \u001b[39mnot\u001b[39;00m \u001b[39min\u001b[39;00m input_columns:\n\u001b[0;32m-> 1468\u001b[0m         \u001b[39mraise\u001b[39;00m AutoMLException(\n\u001b[1;32m   1469\u001b[0m             \u001b[39mf\u001b[39m\u001b[39m\"\u001b[39m\u001b[39mMissing column: \u001b[39m\u001b[39m{\u001b[39;00mcolumn\u001b[39m}\u001b[39;00m\u001b[39m in input data. Cannot predict\u001b[39m\u001b[39m\"\u001b[39m\n\u001b[1;32m   1470\u001b[0m         )\n\u001b[1;32m   1472\u001b[0m X \u001b[39m=\u001b[39m X[\u001b[39mself\u001b[39m\u001b[39m.\u001b[39m_data_info[\u001b[39m\"\u001b[39m\u001b[39mcolumns\u001b[39m\u001b[39m\"\u001b[39m]]\n\u001b[1;32m   1473\u001b[0m \u001b[39mself\u001b[39m\u001b[39m.\u001b[39m_validate_X_predict(X)\n",
      "\u001b[0;31mAutoMLException\u001b[0m: Missing column: min_effective_cloud_cover:p_-1h in input data. Cannot predict"
     ]
    }
   ],
   "source": [
    "algos = ['LightGBM', 'Xgboost', 'CatBoost']\n",
    "\n",
    "from supervised.automl import AutoML\n",
    "\n",
    "from helpers import *\n",
    "\n",
    "training_filters = [\n",
    "    {\n",
    "        'feature': 'month',\n",
    "        'operator': 'between',\n",
    "        'value': [3, 9]\n",
    "    }\n",
    "]\n",
    "\n",
    "validation_filters = [\n",
    "    {\n",
    "        'feature': 'date_forecast',\n",
    "        'operator': 'between',\n",
    "        'value': ['2020-05-01', '2020-07-01']\n",
    "    }\n",
    "]\n",
    "\n",
    "test_filters = [\n",
    "    {\n",
    "        'feature': 'date_forecast',\n",
    "        'operator': 'between',\n",
    "        'value': ['2021-05-01', '2021-07-01']\n",
    "    }\n",
    "]\n",
    "\n",
    "\n",
    "agg_strats = ['min','max','mean']\n",
    "\n",
    "m_wrap = DataWrapper(\n",
    "    impute_strategy = 'fbfill',\n",
    "    aggregation_strats = agg_strats,\n",
    "    y_scalers = [Y_Scaler_MaxAbs_per_building()],\n",
    "    transform_pred_strategy = [],\n",
    "    training_filters=training_filters,\n",
    "    validation_filters=validation_filters,\n",
    "    test_filters=test_filters,\n",
    "    bagging_filters=False, # these are applied additionally to the other filters on val, test, sub\n",
    "    )\n",
    "\n",
    "X_train_agg, y_train_agg = m_wrap.get_train(aggregated=True,drop_val=False,drop_test=False,y_scaled=True)\n",
    "X_sub_agg = m_wrap.get_sub(aggregated=True)\n",
    "\n",
    "train_idx = X_train_agg[~X_train_agg['date_forecast'].between('2020-05-01', '2020-07-01')].index\n",
    "val_idx = X_train_agg[X_train_agg['date_forecast'].between('2020-05-01', '2020-07-01')].index\n",
    "\n",
    "X_train_agg = X_train_agg.select_dtypes(exclude=['datetime','timedelta','period[M]'])\n",
    "\n",
    "cv = [(train_idx, val_idx)]\n",
    "\n",
    "mod = AutoML(\n",
    "    results_path='AutoML_Results_XGBOOST/',\n",
    "\n",
    ")\n",
    "\n",
    "pred = mod.predict(X_sub_agg)\n",
    "pred"
   ]
  }
 ],
 "metadata": {
  "kernelspec": {
   "display_name": "ML",
   "language": "python",
   "name": "python3"
  },
  "language_info": {
   "codemirror_mode": {
    "name": "ipython",
    "version": 3
   },
   "file_extension": ".py",
   "mimetype": "text/x-python",
   "name": "python",
   "nbconvert_exporter": "python",
   "pygments_lexer": "ipython3",
   "version": "3.11.6"
  }
 },
 "nbformat": 4,
 "nbformat_minor": 2
}
